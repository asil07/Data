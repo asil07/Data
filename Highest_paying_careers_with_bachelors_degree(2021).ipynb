{
  "nbformat": 4,
  "nbformat_minor": 0,
  "metadata": {
    "colab": {
      "name": "Highest-paying-careers-with-bachelors-degree(2021).ipynb",
      "provenance": [],
      "collapsed_sections": [],
      "authorship_tag": "ABX9TyMXwstZiDTf4HMsEjQE9nNf",
      "include_colab_link": true
    },
    "kernelspec": {
      "name": "python3",
      "display_name": "Python 3"
    },
    "language_info": {
      "name": "python"
    }
  },
  "cells": [
    {
      "cell_type": "markdown",
      "metadata": {
        "id": "view-in-github",
        "colab_type": "text"
      },
      "source": [
        "<a href=\"https://colab.research.google.com/github/asil07/Data/blob/master/Highest_paying_careers_with_bachelors_degree(2021).ipynb\" target=\"_parent\"><img src=\"https://colab.research.google.com/assets/colab-badge.svg\" alt=\"Open In Colab\"/></a>"
      ]
    },
    {
      "cell_type": "code",
      "metadata": {
        "id": "0Mul1FZUpwZA"
      },
      "source": [
        "from bs4 import BeautifulSoup\n",
        "import pandas as pd\n",
        "import requests\n",
        "from pprint import pprint\n",
        "job_web_link = \"https://www.payscale.com/college-salary-report/majors-that-pay-you-back/bachelors\"\n",
        "response = requests.get(job_web_link)\n",
        "soup = BeautifulSoup(response.text, \"html.parser\")\n",
        "records = []\n",
        "\n",
        "rows = soup.select(\"table.data-table tbody tr\")\n",
        "\n",
        "for row in rows:\n",
        "    cells = row.select(\"span.data-table__value\")\n",
        "    record = {\n",
        "        \"Undergraduate Major\": cells[1].getText(),\n",
        "        \"Starting Median Salary\": float(cells[3].getText().strip(\"$\").replace(\",\", \"\")),\n",
        "        \"Mid-Career Median Salary\": float(cells[4].getText().strip(\"$\").replace(\",\", \"\")),\n",
        "    }\n",
        "    records.append(record)\n",
        "pprint(records)\n",
        "pd.DataFrame(records).to_csv(\"salaraies_by_major.csv\", index=False)\n",
        "  \n",
        "\n"
      ],
      "execution_count": null,
      "outputs": []
    },
    {
      "cell_type": "markdown",
      "metadata": {
        "id": "M_PAqP3CB16-"
      },
      "source": [
        "Höööp soup bilan tanlangan har bir object ni içidan yana object tanlasa ham bölar ekan mısol cells = row.select(\"span.data-table__value\")\n"
      ]
    },
    {
      "cell_type": "code",
      "metadata": {
        "colab": {
          "base_uri": "https://localhost:8080/",
          "height": 195
        },
        "id": "HM-VUG8_xPyL",
        "outputId": "bfe02999-fc21-469c-a62c-504cd0331230"
      },
      "source": [
        "df = pd.read_csv(\"salaraies_by_major.csv\")\n",
        "df.head()"
      ],
      "execution_count": 64,
      "outputs": [
        {
          "output_type": "execute_result",
          "data": {
            "text/html": [
              "<div>\n",
              "<style scoped>\n",
              "    .dataframe tbody tr th:only-of-type {\n",
              "        vertical-align: middle;\n",
              "    }\n",
              "\n",
              "    .dataframe tbody tr th {\n",
              "        vertical-align: top;\n",
              "    }\n",
              "\n",
              "    .dataframe thead th {\n",
              "        text-align: right;\n",
              "    }\n",
              "</style>\n",
              "<table border=\"1\" class=\"dataframe\">\n",
              "  <thead>\n",
              "    <tr style=\"text-align: right;\">\n",
              "      <th></th>\n",
              "      <th>Undergraduate Major</th>\n",
              "      <th>Starting Median Salary</th>\n",
              "      <th>Mid-Career Median Salary</th>\n",
              "    </tr>\n",
              "  </thead>\n",
              "  <tbody>\n",
              "    <tr>\n",
              "      <th>0</th>\n",
              "      <td>Petroleum Engineering</td>\n",
              "      <td>92300.0</td>\n",
              "      <td>182000.0</td>\n",
              "    </tr>\n",
              "    <tr>\n",
              "      <th>1</th>\n",
              "      <td>Electrical Engineering &amp; Computer Science (EECS)</td>\n",
              "      <td>101200.0</td>\n",
              "      <td>152300.0</td>\n",
              "    </tr>\n",
              "    <tr>\n",
              "      <th>2</th>\n",
              "      <td>Applied Economics and Management</td>\n",
              "      <td>60900.0</td>\n",
              "      <td>139600.0</td>\n",
              "    </tr>\n",
              "    <tr>\n",
              "      <th>3</th>\n",
              "      <td>Operations Research</td>\n",
              "      <td>78400.0</td>\n",
              "      <td>139600.0</td>\n",
              "    </tr>\n",
              "    <tr>\n",
              "      <th>4</th>\n",
              "      <td>Public Accounting</td>\n",
              "      <td>60000.0</td>\n",
              "      <td>138800.0</td>\n",
              "    </tr>\n",
              "  </tbody>\n",
              "</table>\n",
              "</div>"
            ],
            "text/plain": [
              "                                Undergraduate Major  ...  Mid-Career Median Salary\n",
              "0                             Petroleum Engineering  ...                  182000.0\n",
              "1  Electrical Engineering & Computer Science (EECS)  ...                  152300.0\n",
              "2                  Applied Economics and Management  ...                  139600.0\n",
              "3                               Operations Research  ...                  139600.0\n",
              "4                                 Public Accounting  ...                  138800.0\n",
              "\n",
              "[5 rows x 3 columns]"
            ]
          },
          "metadata": {
            "tags": []
          },
          "execution_count": 64
        }
      ]
    },
    {
      "cell_type": "code",
      "metadata": {
        "colab": {
          "base_uri": "https://localhost:8080/"
        },
        "id": "_0nx9Rbo_Gfj",
        "outputId": "32b42ee5-367b-4f49-fb0e-5b9918fd0ab8"
      },
      "source": [
        "print(f'Highest starting salary by major:\\n\\n{df.loc[df[\"Starting Median Salary\"].idxmax()]}')"
      ],
      "execution_count": 80,
      "outputs": [
        {
          "output_type": "stream",
          "text": [
            "Highest starting salary by major:\n",
            "\n",
            "Undergraduate Major         Electrical Engineering & Computer Science (EECS)\n",
            "Starting Median Salary                                                101200\n",
            "Mid-Career Median Salary                                              152300\n",
            "Name: 1, dtype: object\n"
          ],
          "name": "stdout"
        }
      ]
    },
    {
      "cell_type": "code",
      "metadata": {
        "colab": {
          "base_uri": "https://localhost:8080/"
        },
        "id": "b9AJUlmIC-oU",
        "outputId": "338f7600-6ae5-4cfc-b70c-8ed6caacc870"
      },
      "source": [
        "print(f'Lowest Starting salary by major:\\n\\n{df.loc[df[\"Starting Median Salary\"].idxmin]}')"
      ],
      "execution_count": 84,
      "outputs": [
        {
          "output_type": "stream",
          "text": [
            "Lowest Starting salary by major:\n",
            "\n",
            "Undergraduate Major         Aerospace Studies\n",
            "Starting Median Salary                  50300\n",
            "Mid-Career Median Salary               130300\n",
            "Name: 12, dtype: object\n"
          ],
          "name": "stdout"
        }
      ]
    },
    {
      "cell_type": "code",
      "metadata": {
        "id": "wvBvjHWTDyMZ"
      },
      "source": [
        "s"
      ],
      "execution_count": null,
      "outputs": []
    }
  ]
}