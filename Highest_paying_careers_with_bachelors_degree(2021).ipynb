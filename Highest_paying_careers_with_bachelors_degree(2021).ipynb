{
  "nbformat": 4,
  "nbformat_minor": 0,
  "metadata": {
    "colab": {
      "name": "Highest-paying-careers-with-bachelors-degree(2021).ipynb",
      "provenance": [],
      "collapsed_sections": [],
      "authorship_tag": "ABX9TyMXwstZiDTf4HMsEjQE9nNf",
      "include_colab_link": true
    },
    "kernelspec": {
      "name": "python3",
      "display_name": "Python 3"
    },
    "language_info": {
      "name": "python"
    }
  },
  "cells": [
    {
      "cell_type": "markdown",
      "metadata": {
        "id": "view-in-github",
        "colab_type": "text"
      },
      "source": [
        "<a href=\"https://colab.research.google.com/github/asil07/Data/blob/master/Highest_paying_careers_with_bachelors_degree(2021).ipynb\" target=\"_parent\"><img src=\"https://colab.research.google.com/assets/colab-badge.svg\" alt=\"Open In Colab\"/></a>"
      ]
    },
    {
      "cell_type": "code",
      "metadata": {
        "colab": {
          "base_uri": "https://localhost:8080/"
        },
        "id": "0Mul1FZUpwZA",
        "outputId": "73f621e3-9328-4997-eabf-ea4a696c9452"
      },
      "source": [
        "from bs4 import BeautifulSoup\n",
        "import pandas as pd\n",
        "import requests\n",
        "from pprint import pprint\n",
        "job_web_link = \"https://www.payscale.com/college-salary-report/majors-that-pay-you-back/bachelors\"\n",
        "response = requests.get(job_web_link)\n",
        "soup = BeautifulSoup(response.text, \"html.parser\")\n",
        "records = []\n",
        "\n",
        "rows = soup.select(\"table.data-table tbody tr\")\n",
        "\n",
        "for row in rows:\n",
        "    cells = row.select(\"span.data-table__value\")\n",
        "    record = {\n",
        "        \"Undergraduate Major\": cells[1].getText(),\n",
        "        \"Starting Median Salary\": float(cells[3].getText().strip(\"$\").replace(\",\", \"\")),\n",
        "        \"Mid-Career Median Salary\": float(cells[4].getText().strip(\"$\").replace(\",\", \"\")),\n",
        "    }\n",
        "    records.append(record)\n",
        "pprint(records)\n",
        "pd.DataFrame(records).to_csv(\"salaraies_by_major.csv\", index=False)\n",
        "  \n",
        "\n"
      ],
      "execution_count": 76,
      "outputs": [
        {
          "output_type": "stream",
          "text": [
            "<tr class=\"data-table__row\"><td class=\"data-table__cell csr-col--rank \"><span class=\"data-table__title\">Rank<!-- -->:</span><span class=\"data-table__value\">1</span></td><td class=\"data-table__cell csr-col--school-name \"><span class=\"data-table__title\">Major<!-- -->:</span><span class=\"data-table__value\"><a href=\"/research/US/Degree=Bachelor%27s_Degree%2C_Petroleum_Engineering/Salary\">Petroleum Engineering</a></span></td><td class=\"data-table__cell csr-col--school-type data-table__cell--hidden-mobile\"><span class=\"data-table__title\">Degree Type<!-- -->:</span><span class=\"data-table__value\">Bachelors</span></td><td class=\"data-table__cell csr-col--right \"><span class=\"data-table__title\">Early Career Pay<!-- -->:</span><span class=\"data-table__value\">$92,300</span></td><td class=\"data-table__cell csr-col--right \"><span class=\"data-table__title\">Mid-Career Pay<!-- -->:</span><span class=\"data-table__value\">$182,000</span></td><td class=\"data-table__cell csr-col--right \"><span class=\"data-table__title\">% High Meaning<!-- -->:</span><span class=\"data-table__value\">69%</span></td></tr>\n",
            "<tr class=\"data-table__row\"><td class=\"data-table__cell csr-col--rank \"><span class=\"data-table__title\">Rank<!-- -->:</span><span class=\"data-table__value\">2</span></td><td class=\"data-table__cell csr-col--school-name \"><span class=\"data-table__title\">Major<!-- -->:</span><span class=\"data-table__value\"><a href=\"/research/US/Degree=Bachelor%27s_Degree%2C_Electrical_Engineering_%26_Computer_Science_(EECS)/Salary\">Electrical Engineering &amp; Computer Science (EECS)</a></span></td><td class=\"data-table__cell csr-col--school-type data-table__cell--hidden-mobile\"><span class=\"data-table__title\">Degree Type<!-- -->:</span><span class=\"data-table__value\">Bachelors</span></td><td class=\"data-table__cell csr-col--right \"><span class=\"data-table__title\">Early Career Pay<!-- -->:</span><span class=\"data-table__value\">$101,200</span></td><td class=\"data-table__cell csr-col--right \"><span class=\"data-table__title\">Mid-Career Pay<!-- -->:</span><span class=\"data-table__value\">$152,300</span></td><td class=\"data-table__cell csr-col--right \"><span class=\"data-table__title\">% High Meaning<!-- -->:</span><span class=\"data-table__value\">46%</span></td></tr>\n",
            "<tr class=\"data-table__row\"><td class=\"data-table__cell csr-col--rank \"><span class=\"data-table__title\">Rank<!-- -->:</span><span class=\"data-table__value\">3</span></td><td class=\"data-table__cell csr-col--school-name \"><span class=\"data-table__title\">Major<!-- -->:</span><span class=\"data-table__value\"><a href=\"/research/US/Degree=Bachelor%27s_Degree%2C_Applied_Economics_and_Management/Salary\">Applied Economics and Management</a></span></td><td class=\"data-table__cell csr-col--school-type data-table__cell--hidden-mobile\"><span class=\"data-table__title\">Degree Type<!-- -->:</span><span class=\"data-table__value\">Bachelors</span></td><td class=\"data-table__cell csr-col--right \"><span class=\"data-table__title\">Early Career Pay<!-- -->:</span><span class=\"data-table__value\">$60,900</span></td><td class=\"data-table__cell csr-col--right \"><span class=\"data-table__title\">Mid-Career Pay<!-- -->:</span><span class=\"data-table__value\">$139,600</span></td><td class=\"data-table__cell csr-col--right \"><span class=\"data-table__title\">% High Meaning<!-- -->:</span><span class=\"data-table__value\">67%</span></td></tr>\n",
            "<tr class=\"data-table__row\"><td class=\"data-table__cell csr-col--rank \"><span class=\"data-table__title\">Rank<!-- -->:</span><span class=\"data-table__value\">3</span></td><td class=\"data-table__cell csr-col--school-name \"><span class=\"data-table__title\">Major<!-- -->:</span><span class=\"data-table__value\"><a href=\"/research/US/Degree=Bachelor%27s_Degree%2C_Operations_Research/Salary\">Operations Research</a></span></td><td class=\"data-table__cell csr-col--school-type data-table__cell--hidden-mobile\"><span class=\"data-table__title\">Degree Type<!-- -->:</span><span class=\"data-table__value\">Bachelors</span></td><td class=\"data-table__cell csr-col--right \"><span class=\"data-table__title\">Early Career Pay<!-- -->:</span><span class=\"data-table__value\">$78,400</span></td><td class=\"data-table__cell csr-col--right \"><span class=\"data-table__title\">Mid-Career Pay<!-- -->:</span><span class=\"data-table__value\">$139,600</span></td><td class=\"data-table__cell csr-col--right \"><span class=\"data-table__title\">% High Meaning<!-- -->:</span><span class=\"data-table__value\">52%</span></td></tr>\n",
            "<tr class=\"data-table__row\"><td class=\"data-table__cell csr-col--rank \"><span class=\"data-table__title\">Rank<!-- -->:</span><span class=\"data-table__value\">5</span></td><td class=\"data-table__cell csr-col--school-name \"><span class=\"data-table__title\">Major<!-- -->:</span><span class=\"data-table__value\"><a href=\"/research/US/Degree=Bachelor%27s_Degree%2C_Public_Accounting/Salary\">Public Accounting</a></span></td><td class=\"data-table__cell csr-col--school-type data-table__cell--hidden-mobile\"><span class=\"data-table__title\">Degree Type<!-- -->:</span><span class=\"data-table__value\">Bachelors</span></td><td class=\"data-table__cell csr-col--right \"><span class=\"data-table__title\">Early Career Pay<!-- -->:</span><span class=\"data-table__value\">$60,000</span></td><td class=\"data-table__cell csr-col--right \"><span class=\"data-table__title\">Mid-Career Pay<!-- -->:</span><span class=\"data-table__value\">$138,800</span></td><td class=\"data-table__cell csr-col--right \"><span class=\"data-table__title\">% High Meaning<!-- -->:</span><span class=\"data-table__value\">49%</span></td></tr>\n",
            "<tr class=\"data-table__row\"><td class=\"data-table__cell csr-col--rank \"><span class=\"data-table__title\">Rank<!-- -->:</span><span class=\"data-table__value\">6</span></td><td class=\"data-table__cell csr-col--school-name \"><span class=\"data-table__title\">Major<!-- -->:</span><span class=\"data-table__value\"><a href=\"/research/US/Degree=Bachelor%27s_Degree%2C_Chemical_Engineering%2FMaterials_Science_%26_Engineering/Salary\">Chemical Engineering/Materials Science &amp; Engineering</a></span></td><td class=\"data-table__cell csr-col--school-type data-table__cell--hidden-mobile\"><span class=\"data-table__title\">Degree Type<!-- -->:</span><span class=\"data-table__value\">Bachelors</span></td><td class=\"data-table__cell csr-col--right \"><span class=\"data-table__title\">Early Career Pay<!-- -->:</span><span class=\"data-table__value\">$74,500</span></td><td class=\"data-table__cell csr-col--right \"><span class=\"data-table__title\">Mid-Career Pay<!-- -->:</span><span class=\"data-table__value\">$137,800</span></td><td class=\"data-table__cell csr-col--right \"><span class=\"data-table__title\">% High Meaning<!-- -->:</span><span class=\"data-table__value\">60%</span></td></tr>\n",
            "<tr class=\"data-table__row\"><td class=\"data-table__cell csr-col--rank \"><span class=\"data-table__title\">Rank<!-- -->:</span><span class=\"data-table__value\">7</span></td><td class=\"data-table__cell csr-col--school-name \"><span class=\"data-table__title\">Major<!-- -->:</span><span class=\"data-table__value\"><a href=\"/research/US/Degree=Bachelor%27s_Degree%2C_Quantitative_Business_Analysis/Salary\">Quantitative Business Analysis</a></span></td><td class=\"data-table__cell csr-col--school-type data-table__cell--hidden-mobile\"><span class=\"data-table__title\">Degree Type<!-- -->:</span><span class=\"data-table__value\">Bachelors</span></td><td class=\"data-table__cell csr-col--right \"><span class=\"data-table__title\">Early Career Pay<!-- -->:</span><span class=\"data-table__value\">$67,900</span></td><td class=\"data-table__cell csr-col--right \"><span class=\"data-table__title\">Mid-Career Pay<!-- -->:</span><span class=\"data-table__value\">$136,200</span></td><td class=\"data-table__cell csr-col--right \"><span class=\"data-table__title\">% High Meaning<!-- -->:</span><span class=\"data-table__value\">55%</span></td></tr>\n",
            "<tr class=\"data-table__row\"><td class=\"data-table__cell csr-col--rank \"><span class=\"data-table__title\">Rank<!-- -->:</span><span class=\"data-table__value\">8</span></td><td class=\"data-table__cell csr-col--school-name \"><span class=\"data-table__title\">Major<!-- -->:</span><span class=\"data-table__value\"><a href=\"/research/US/Degree=Bachelor%27s_Degree%2C_Pharmacy/Salary\">Pharmacy</a></span></td><td class=\"data-table__cell csr-col--school-type data-table__cell--hidden-mobile\"><span class=\"data-table__title\">Degree Type<!-- -->:</span><span class=\"data-table__value\">Bachelors</span></td><td class=\"data-table__cell csr-col--right \"><span class=\"data-table__title\">Early Career Pay<!-- -->:</span><span class=\"data-table__value\">$66,300</span></td><td class=\"data-table__cell csr-col--right \"><span class=\"data-table__title\">Mid-Career Pay<!-- -->:</span><span class=\"data-table__value\">$133,200</span></td><td class=\"data-table__cell csr-col--right \"><span class=\"data-table__title\">% High Meaning<!-- -->:</span><span class=\"data-table__value\">79%</span></td></tr>\n",
            "<tr class=\"data-table__row\"><td class=\"data-table__cell csr-col--rank \"><span class=\"data-table__title\">Rank<!-- -->:</span><span class=\"data-table__value\">9</span></td><td class=\"data-table__cell csr-col--school-name \"><span class=\"data-table__title\">Major<!-- -->:</span><span class=\"data-table__value\"><a href=\"/research/US/Degree=Bachelor%27s_Degree%2C_Aeronautics_%26_Astronautics/Salary\">Aeronautics &amp; Astronautics</a></span></td><td class=\"data-table__cell csr-col--school-type data-table__cell--hidden-mobile\"><span class=\"data-table__title\">Degree Type<!-- -->:</span><span class=\"data-table__value\">Bachelors</span></td><td class=\"data-table__cell csr-col--right \"><span class=\"data-table__title\">Early Career Pay<!-- -->:</span><span class=\"data-table__value\">$74,000</span></td><td class=\"data-table__cell csr-col--right \"><span class=\"data-table__title\">Mid-Career Pay<!-- -->:</span><span class=\"data-table__value\">$133,100</span></td><td class=\"data-table__cell csr-col--right \"><span class=\"data-table__title\">% High Meaning<!-- -->:</span><span class=\"data-table__value\">60%</span></td></tr>\n",
            "<tr class=\"data-table__row\"><td class=\"data-table__cell csr-col--rank \"><span class=\"data-table__title\">Rank<!-- -->:</span><span class=\"data-table__value\">10</span></td><td class=\"data-table__cell csr-col--school-name \"><span class=\"data-table__title\">Major<!-- -->:</span><span class=\"data-table__value\"><a href=\"/research/US/Degree=Bachelor%27s_Degree%2C_Systems_Engineering/Salary\">Systems Engineering</a></span></td><td class=\"data-table__cell csr-col--school-type data-table__cell--hidden-mobile\"><span class=\"data-table__title\">Degree Type<!-- -->:</span><span class=\"data-table__value\">Bachelors</span></td><td class=\"data-table__cell csr-col--right \"><span class=\"data-table__title\">Early Career Pay<!-- -->:</span><span class=\"data-table__value\">$74,000</span></td><td class=\"data-table__cell csr-col--right \"><span class=\"data-table__title\">Mid-Career Pay<!-- -->:</span><span class=\"data-table__value\">$132,900</span></td><td class=\"data-table__cell csr-col--right \"><span class=\"data-table__title\">% High Meaning<!-- -->:</span><span class=\"data-table__value\">54%</span></td></tr>\n",
            "<tr class=\"data-table__row\"><td class=\"data-table__cell csr-col--rank \"><span class=\"data-table__title\">Rank<!-- -->:</span><span class=\"data-table__value\">11</span></td><td class=\"data-table__cell csr-col--school-name \"><span class=\"data-table__title\">Major<!-- -->:</span><span class=\"data-table__value\"><a href=\"/research/US/Degree=Bachelor%27s_Degree%2C_Electrical_Power_Engineering/Salary\">Electrical Power Engineering</a></span></td><td class=\"data-table__cell csr-col--school-type data-table__cell--hidden-mobile\"><span class=\"data-table__title\">Degree Type<!-- -->:</span><span class=\"data-table__value\">Bachelors</span></td><td class=\"data-table__cell csr-col--right \"><span class=\"data-table__title\">Early Career Pay<!-- -->:</span><span class=\"data-table__value\">$73,100</span></td><td class=\"data-table__cell csr-col--right \"><span class=\"data-table__title\">Mid-Career Pay<!-- -->:</span><span class=\"data-table__value\">$130,700</span></td><td class=\"data-table__cell csr-col--right \"><span class=\"data-table__title\">% High Meaning<!-- -->:</span><span class=\"data-table__value\">67%</span></td></tr>\n",
            "<tr class=\"data-table__row\"><td class=\"data-table__cell csr-col--rank \"><span class=\"data-table__title\">Rank<!-- -->:</span><span class=\"data-table__value\">12</span></td><td class=\"data-table__cell csr-col--school-name \"><span class=\"data-table__title\">Major<!-- -->:</span><span class=\"data-table__value\"><a href=\"/research/US/Degree=Bachelor%27s_Degree%2C_Actuarial_Mathematics/Salary\">Actuarial Mathematics</a></span></td><td class=\"data-table__cell csr-col--school-type data-table__cell--hidden-mobile\"><span class=\"data-table__title\">Degree Type<!-- -->:</span><span class=\"data-table__value\">Bachelors</span></td><td class=\"data-table__cell csr-col--right \"><span class=\"data-table__title\">Early Career Pay<!-- -->:</span><span class=\"data-table__value\">$61,900</span></td><td class=\"data-table__cell csr-col--right \"><span class=\"data-table__title\">Mid-Career Pay<!-- -->:</span><span class=\"data-table__value\">$130,500</span></td><td class=\"data-table__cell csr-col--right \"><span class=\"data-table__title\">% High Meaning<!-- -->:</span><span class=\"data-table__value\">50%</span></td></tr>\n",
            "<tr class=\"data-table__row\"><td class=\"data-table__cell csr-col--rank \"><span class=\"data-table__title\">Rank<!-- -->:</span><span class=\"data-table__value\">13</span></td><td class=\"data-table__cell csr-col--school-name \"><span class=\"data-table__title\">Major<!-- -->:</span><span class=\"data-table__value\"><a href=\"/research/US/Degree=Bachelor%27s_Degree%2C_Aerospace_Studies/Salary\">Aerospace Studies</a></span></td><td class=\"data-table__cell csr-col--school-type data-table__cell--hidden-mobile\"><span class=\"data-table__title\">Degree Type<!-- -->:</span><span class=\"data-table__value\">Bachelors</span></td><td class=\"data-table__cell csr-col--right \"><span class=\"data-table__title\">Early Career Pay<!-- -->:</span><span class=\"data-table__value\">$50,300</span></td><td class=\"data-table__cell csr-col--right \"><span class=\"data-table__title\">Mid-Career Pay<!-- -->:</span><span class=\"data-table__value\">$130,300</span></td><td class=\"data-table__cell csr-col--right \"><span class=\"data-table__title\">% High Meaning<!-- -->:</span><span class=\"data-table__value\">-</span></td></tr>\n",
            "<tr class=\"data-table__row\"><td class=\"data-table__cell csr-col--rank \"><span class=\"data-table__title\">Rank<!-- -->:</span><span class=\"data-table__value\">14</span></td><td class=\"data-table__cell csr-col--school-name \"><span class=\"data-table__title\">Major<!-- -->:</span><span class=\"data-table__value\"><a href=\"/research/US/Degree=Bachelor%27s_Degree%2C_Chemical_Engineering/Salary\">Chemical Engineering</a></span></td><td class=\"data-table__cell csr-col--school-type data-table__cell--hidden-mobile\"><span class=\"data-table__title\">Degree Type<!-- -->:</span><span class=\"data-table__value\">Bachelors</span></td><td class=\"data-table__cell csr-col--right \"><span class=\"data-table__title\">Early Career Pay<!-- -->:</span><span class=\"data-table__value\">$73,500</span></td><td class=\"data-table__cell csr-col--right \"><span class=\"data-table__title\">Mid-Career Pay<!-- -->:</span><span class=\"data-table__value\">$128,900</span></td><td class=\"data-table__cell csr-col--right \"><span class=\"data-table__title\">% High Meaning<!-- -->:</span><span class=\"data-table__value\">56%</span></td></tr>\n",
            "<tr class=\"data-table__row\"><td class=\"data-table__cell csr-col--rank \"><span class=\"data-table__title\">Rank<!-- -->:</span><span class=\"data-table__value\">15</span></td><td class=\"data-table__cell csr-col--school-name \"><span class=\"data-table__title\">Major<!-- -->:</span><span class=\"data-table__value\"><a href=\"/research/US/Degree=Bachelor%27s_Degree%2C_Actuarial_Science/Salary\">Actuarial Science</a></span></td><td class=\"data-table__cell csr-col--school-type data-table__cell--hidden-mobile\"><span class=\"data-table__title\">Degree Type<!-- -->:</span><span class=\"data-table__value\">Bachelors</span></td><td class=\"data-table__cell csr-col--right \"><span class=\"data-table__title\">Early Career Pay<!-- -->:</span><span class=\"data-table__value\">$64,700</span></td><td class=\"data-table__cell csr-col--right \"><span class=\"data-table__title\">Mid-Career Pay<!-- -->:</span><span class=\"data-table__value\">$128,700</span></td><td class=\"data-table__cell csr-col--right \"><span class=\"data-table__title\">% High Meaning<!-- -->:</span><span class=\"data-table__value\">42%</span></td></tr>\n",
            "<tr class=\"data-table__row\"><td class=\"data-table__cell csr-col--rank \"><span class=\"data-table__title\">Rank<!-- -->:</span><span class=\"data-table__value\">16</span></td><td class=\"data-table__cell csr-col--school-name \"><span class=\"data-table__title\">Major<!-- -->:</span><span class=\"data-table__value\"><a href=\"/research/US/Degree=Bachelor%27s_Degree%2C_Information_%26_Computer_Science/Salary\">Information &amp; Computer Science</a></span></td><td class=\"data-table__cell csr-col--school-type data-table__cell--hidden-mobile\"><span class=\"data-table__title\">Degree Type<!-- -->:</span><span class=\"data-table__value\">Bachelors</span></td><td class=\"data-table__cell csr-col--right \"><span class=\"data-table__title\">Early Career Pay<!-- -->:</span><span class=\"data-table__value\">$70,300</span></td><td class=\"data-table__cell csr-col--right \"><span class=\"data-table__title\">Mid-Career Pay<!-- -->:</span><span class=\"data-table__value\">$127,600</span></td><td class=\"data-table__cell csr-col--right \"><span class=\"data-table__title\">% High Meaning<!-- -->:</span><span class=\"data-table__value\">60%</span></td></tr>\n",
            "<tr class=\"data-table__row\"><td class=\"data-table__cell csr-col--rank \"><span class=\"data-table__title\">Rank<!-- -->:</span><span class=\"data-table__value\">17</span></td><td class=\"data-table__cell csr-col--school-name \"><span class=\"data-table__title\">Major<!-- -->:</span><span class=\"data-table__value\"><a href=\"/research/US/Degree=Bachelor%27s_Degree%2C_Aeronautical_Engineering/Salary\">Aeronautical Engineering</a></span></td><td class=\"data-table__cell csr-col--school-type data-table__cell--hidden-mobile\"><span class=\"data-table__title\">Degree Type<!-- -->:</span><span class=\"data-table__value\">Bachelors</span></td><td class=\"data-table__cell csr-col--right \"><span class=\"data-table__title\">Early Career Pay<!-- -->:</span><span class=\"data-table__value\">$71,600</span></td><td class=\"data-table__cell csr-col--right \"><span class=\"data-table__title\">Mid-Career Pay<!-- -->:</span><span class=\"data-table__value\">$125,900</span></td><td class=\"data-table__cell csr-col--right \"><span class=\"data-table__title\">% High Meaning<!-- -->:</span><span class=\"data-table__value\">64%</span></td></tr>\n",
            "<tr class=\"data-table__row\"><td class=\"data-table__cell csr-col--rank \"><span class=\"data-table__title\">Rank<!-- -->:</span><span class=\"data-table__value\">18</span></td><td class=\"data-table__cell csr-col--school-name \"><span class=\"data-table__title\">Major<!-- -->:</span><span class=\"data-table__value\"><a href=\"/research/US/Degree=Bachelor%27s_Degree%2C_Operations_%26_Information_Systems_Management/Salary\">Operations &amp; Information Systems Management</a></span></td><td class=\"data-table__cell csr-col--school-type data-table__cell--hidden-mobile\"><span class=\"data-table__title\">Degree Type<!-- -->:</span><span class=\"data-table__value\">Bachelors</span></td><td class=\"data-table__cell csr-col--right \"><span class=\"data-table__title\">Early Career Pay<!-- -->:</span><span class=\"data-table__value\">$63,800</span></td><td class=\"data-table__cell csr-col--right \"><span class=\"data-table__title\">Mid-Career Pay<!-- -->:</span><span class=\"data-table__value\">$125,100</span></td><td class=\"data-table__cell csr-col--right \"><span class=\"data-table__title\">% High Meaning<!-- -->:</span><span class=\"data-table__value\">31%</span></td></tr>\n",
            "<tr class=\"data-table__row\"><td class=\"data-table__cell csr-col--rank \"><span class=\"data-table__title\">Rank<!-- -->:</span><span class=\"data-table__value\">18</span></td><td class=\"data-table__cell csr-col--school-name \"><span class=\"data-table__title\">Major<!-- -->:</span><span class=\"data-table__value\"><a href=\"/research/US/Degree=Bachelor%27s_Degree%2C_Political_Economy/Salary\">Political Economy</a></span></td><td class=\"data-table__cell csr-col--school-type data-table__cell--hidden-mobile\"><span class=\"data-table__title\">Degree Type<!-- -->:</span><span class=\"data-table__value\">Bachelors</span></td><td class=\"data-table__cell csr-col--right \"><span class=\"data-table__title\">Early Career Pay<!-- -->:</span><span class=\"data-table__value\">$58,200</span></td><td class=\"data-table__cell csr-col--right \"><span class=\"data-table__title\">Mid-Career Pay<!-- -->:</span><span class=\"data-table__value\">$125,100</span></td><td class=\"data-table__cell csr-col--right \"><span class=\"data-table__title\">% High Meaning<!-- -->:</span><span class=\"data-table__value\">34%</span></td></tr>\n",
            "<tr class=\"data-table__row\"><td class=\"data-table__cell csr-col--rank \"><span class=\"data-table__title\">Rank<!-- -->:</span><span class=\"data-table__value\">20</span></td><td class=\"data-table__cell csr-col--school-name \"><span class=\"data-table__title\">Major<!-- -->:</span><span class=\"data-table__value\"><a href=\"/research/US/Degree=Bachelor%27s_Degree%2C_Marine_Engineering/Salary\">Marine Engineering</a></span></td><td class=\"data-table__cell csr-col--school-type data-table__cell--hidden-mobile\"><span class=\"data-table__title\">Degree Type<!-- -->:</span><span class=\"data-table__value\">Bachelors</span></td><td class=\"data-table__cell csr-col--right \"><span class=\"data-table__title\">Early Career Pay<!-- -->:</span><span class=\"data-table__value\">$74,700</span></td><td class=\"data-table__cell csr-col--right \"><span class=\"data-table__title\">Mid-Career Pay<!-- -->:</span><span class=\"data-table__value\">$125,000</span></td><td class=\"data-table__cell csr-col--right \"><span class=\"data-table__title\">% High Meaning<!-- -->:</span><span class=\"data-table__value\">64%</span></td></tr>\n",
            "<tr class=\"data-table__row\"><td class=\"data-table__cell csr-col--rank \"><span class=\"data-table__title\">Rank<!-- -->:</span><span class=\"data-table__value\">21</span></td><td class=\"data-table__cell csr-col--school-name \"><span class=\"data-table__title\">Major<!-- -->:</span><span class=\"data-table__value\"><a href=\"/research/US/Degree=Bachelor%27s_Degree%2C_Computer_Systems_Engineering/Salary\">Computer Systems Engineering</a></span></td><td class=\"data-table__cell csr-col--school-type data-table__cell--hidden-mobile\"><span class=\"data-table__title\">Degree Type<!-- -->:</span><span class=\"data-table__value\">Bachelors</span></td><td class=\"data-table__cell csr-col--right \"><span class=\"data-table__title\">Early Career Pay<!-- -->:</span><span class=\"data-table__value\">$74,600</span></td><td class=\"data-table__cell csr-col--right \"><span class=\"data-table__title\">Mid-Career Pay<!-- -->:</span><span class=\"data-table__value\">$124,800</span></td><td class=\"data-table__cell csr-col--right \"><span class=\"data-table__title\">% High Meaning<!-- -->:</span><span class=\"data-table__value\">49%</span></td></tr>\n",
            "<tr class=\"data-table__row\"><td class=\"data-table__cell csr-col--rank \"><span class=\"data-table__title\">Rank<!-- -->:</span><span class=\"data-table__value\">22</span></td><td class=\"data-table__cell csr-col--school-name \"><span class=\"data-table__title\">Major<!-- -->:</span><span class=\"data-table__value\"><a href=\"/research/US/Degree=Bachelor%27s_Degree%2C_Nuclear_Engineering/Salary\">Nuclear Engineering</a></span></td><td class=\"data-table__cell csr-col--school-type data-table__cell--hidden-mobile\"><span class=\"data-table__title\">Degree Type<!-- -->:</span><span class=\"data-table__value\">Bachelors</span></td><td class=\"data-table__cell csr-col--right \"><span class=\"data-table__title\">Early Career Pay<!-- -->:</span><span class=\"data-table__value\">$73,100</span></td><td class=\"data-table__cell csr-col--right \"><span class=\"data-table__title\">Mid-Career Pay<!-- -->:</span><span class=\"data-table__value\">$124,500</span></td><td class=\"data-table__cell csr-col--right \"><span class=\"data-table__title\">% High Meaning<!-- -->:</span><span class=\"data-table__value\">63%</span></td></tr>\n",
            "<tr class=\"data-table__row\"><td class=\"data-table__cell csr-col--rank \"><span class=\"data-table__title\">Rank<!-- -->:</span><span class=\"data-table__value\">23</span></td><td class=\"data-table__cell csr-col--school-name \"><span class=\"data-table__title\">Major<!-- -->:</span><span class=\"data-table__value\"><a href=\"/research/US/Degree=Bachelor%27s_Degree%2C_Computer_Science_(CS)_%26_Engineering/Salary\">Computer Science (CS) &amp; Engineering</a></span></td><td class=\"data-table__cell csr-col--school-type data-table__cell--hidden-mobile\"><span class=\"data-table__title\">Degree Type<!-- -->:</span><span class=\"data-table__value\">Bachelors</span></td><td class=\"data-table__cell csr-col--right \"><span class=\"data-table__title\">Early Career Pay<!-- -->:</span><span class=\"data-table__value\">$74,000</span></td><td class=\"data-table__cell csr-col--right \"><span class=\"data-table__title\">Mid-Career Pay<!-- -->:</span><span class=\"data-table__value\">$124,000</span></td><td class=\"data-table__cell csr-col--right \"><span class=\"data-table__title\">% High Meaning<!-- -->:</span><span class=\"data-table__value\">44%</span></td></tr>\n",
            "<tr class=\"data-table__row\"><td class=\"data-table__cell csr-col--rank \"><span class=\"data-table__title\">Rank<!-- -->:</span><span class=\"data-table__value\">24</span></td><td class=\"data-table__cell csr-col--school-name \"><span class=\"data-table__title\">Major<!-- -->:</span><span class=\"data-table__value\"><a href=\"/research/US/Degree=Bachelor%27s_Degree%2C_Corporate_Accounting_%26_Finance/Salary\">Corporate Accounting &amp; Finance</a></span></td><td class=\"data-table__cell csr-col--school-type data-table__cell--hidden-mobile\"><span class=\"data-table__title\">Degree Type<!-- -->:</span><span class=\"data-table__value\">Bachelors</span></td><td class=\"data-table__cell csr-col--right \"><span class=\"data-table__title\">Early Career Pay<!-- -->:</span><span class=\"data-table__value\">$61,200</span></td><td class=\"data-table__cell csr-col--right \"><span class=\"data-table__title\">Mid-Career Pay<!-- -->:</span><span class=\"data-table__value\">$123,600</span></td><td class=\"data-table__cell csr-col--right \"><span class=\"data-table__title\">% High Meaning<!-- -->:</span><span class=\"data-table__value\">57%</span></td></tr>\n",
            "<tr class=\"data-table__row\"><td class=\"data-table__cell csr-col--rank \"><span class=\"data-table__title\">Rank<!-- -->:</span><span class=\"data-table__value\">25</span></td><td class=\"data-table__cell csr-col--school-name \"><span class=\"data-table__title\">Major<!-- -->:</span><span class=\"data-table__value\"><a href=\"/research/US/Degree=Bachelor%27s_Degree%2C_Electrical_%26_Computer_Engineering_(ECE)/Salary\">Electrical &amp; Computer Engineering (ECE)</a></span></td><td class=\"data-table__cell csr-col--school-type data-table__cell--hidden-mobile\"><span class=\"data-table__title\">Degree Type<!-- -->:</span><span class=\"data-table__value\">Bachelors</span></td><td class=\"data-table__cell csr-col--right \"><span class=\"data-table__title\">Early Career Pay<!-- -->:</span><span class=\"data-table__value\">$73,900</span></td><td class=\"data-table__cell csr-col--right \"><span class=\"data-table__title\">Mid-Career Pay<!-- -->:</span><span class=\"data-table__value\">$123,300</span></td><td class=\"data-table__cell csr-col--right \"><span class=\"data-table__title\">% High Meaning<!-- -->:</span><span class=\"data-table__value\">49%</span></td></tr>\n",
            "[{'Mid-Career Median Salary': 182000.0,\n",
            "  'Starting Median Salary': 92300.0,\n",
            "  'Undergraduate Major': 'Petroleum Engineering'},\n",
            " {'Mid-Career Median Salary': 152300.0,\n",
            "  'Starting Median Salary': 101200.0,\n",
            "  'Undergraduate Major': 'Electrical Engineering & Computer Science (EECS)'},\n",
            " {'Mid-Career Median Salary': 139600.0,\n",
            "  'Starting Median Salary': 60900.0,\n",
            "  'Undergraduate Major': 'Applied Economics and Management'},\n",
            " {'Mid-Career Median Salary': 139600.0,\n",
            "  'Starting Median Salary': 78400.0,\n",
            "  'Undergraduate Major': 'Operations Research'},\n",
            " {'Mid-Career Median Salary': 138800.0,\n",
            "  'Starting Median Salary': 60000.0,\n",
            "  'Undergraduate Major': 'Public Accounting'},\n",
            " {'Mid-Career Median Salary': 137800.0,\n",
            "  'Starting Median Salary': 74500.0,\n",
            "  'Undergraduate Major': 'Chemical Engineering/Materials Science & '\n",
            "                         'Engineering'},\n",
            " {'Mid-Career Median Salary': 136200.0,\n",
            "  'Starting Median Salary': 67900.0,\n",
            "  'Undergraduate Major': 'Quantitative Business Analysis'},\n",
            " {'Mid-Career Median Salary': 133200.0,\n",
            "  'Starting Median Salary': 66300.0,\n",
            "  'Undergraduate Major': 'Pharmacy'},\n",
            " {'Mid-Career Median Salary': 133100.0,\n",
            "  'Starting Median Salary': 74000.0,\n",
            "  'Undergraduate Major': 'Aeronautics & Astronautics'},\n",
            " {'Mid-Career Median Salary': 132900.0,\n",
            "  'Starting Median Salary': 74000.0,\n",
            "  'Undergraduate Major': 'Systems Engineering'},\n",
            " {'Mid-Career Median Salary': 130700.0,\n",
            "  'Starting Median Salary': 73100.0,\n",
            "  'Undergraduate Major': 'Electrical Power Engineering'},\n",
            " {'Mid-Career Median Salary': 130500.0,\n",
            "  'Starting Median Salary': 61900.0,\n",
            "  'Undergraduate Major': 'Actuarial Mathematics'},\n",
            " {'Mid-Career Median Salary': 130300.0,\n",
            "  'Starting Median Salary': 50300.0,\n",
            "  'Undergraduate Major': 'Aerospace Studies'},\n",
            " {'Mid-Career Median Salary': 128900.0,\n",
            "  'Starting Median Salary': 73500.0,\n",
            "  'Undergraduate Major': 'Chemical Engineering'},\n",
            " {'Mid-Career Median Salary': 128700.0,\n",
            "  'Starting Median Salary': 64700.0,\n",
            "  'Undergraduate Major': 'Actuarial Science'},\n",
            " {'Mid-Career Median Salary': 127600.0,\n",
            "  'Starting Median Salary': 70300.0,\n",
            "  'Undergraduate Major': 'Information & Computer Science'},\n",
            " {'Mid-Career Median Salary': 125900.0,\n",
            "  'Starting Median Salary': 71600.0,\n",
            "  'Undergraduate Major': 'Aeronautical Engineering'},\n",
            " {'Mid-Career Median Salary': 125100.0,\n",
            "  'Starting Median Salary': 63800.0,\n",
            "  'Undergraduate Major': 'Operations & Information Systems Management'},\n",
            " {'Mid-Career Median Salary': 125100.0,\n",
            "  'Starting Median Salary': 58200.0,\n",
            "  'Undergraduate Major': 'Political Economy'},\n",
            " {'Mid-Career Median Salary': 125000.0,\n",
            "  'Starting Median Salary': 74700.0,\n",
            "  'Undergraduate Major': 'Marine Engineering'},\n",
            " {'Mid-Career Median Salary': 124800.0,\n",
            "  'Starting Median Salary': 74600.0,\n",
            "  'Undergraduate Major': 'Computer Systems Engineering'},\n",
            " {'Mid-Career Median Salary': 124500.0,\n",
            "  'Starting Median Salary': 73100.0,\n",
            "  'Undergraduate Major': 'Nuclear Engineering'},\n",
            " {'Mid-Career Median Salary': 124000.0,\n",
            "  'Starting Median Salary': 74000.0,\n",
            "  'Undergraduate Major': 'Computer Science (CS) & Engineering'},\n",
            " {'Mid-Career Median Salary': 123600.0,\n",
            "  'Starting Median Salary': 61200.0,\n",
            "  'Undergraduate Major': 'Corporate Accounting & Finance'},\n",
            " {'Mid-Career Median Salary': 123300.0,\n",
            "  'Starting Median Salary': 73900.0,\n",
            "  'Undergraduate Major': 'Electrical & Computer Engineering (ECE)'}]\n"
          ],
          "name": "stdout"
        }
      ]
    },
    {
      "cell_type": "markdown",
      "metadata": {
        "id": "M_PAqP3CB16-"
      },
      "source": [
        "Höööp soup bilan tanlangan har bir object ni içidan yana object tanlasa ham bölar ekan mısol cells = row.select(\"span.data-table__value\")\n"
      ]
    },
    {
      "cell_type": "code",
      "metadata": {
        "colab": {
          "base_uri": "https://localhost:8080/",
          "height": 195
        },
        "id": "HM-VUG8_xPyL",
        "outputId": "bfe02999-fc21-469c-a62c-504cd0331230"
      },
      "source": [
        "df = pd.read_csv(\"salaraies_by_major.csv\")\n",
        "df.head()"
      ],
      "execution_count": 64,
      "outputs": [
        {
          "output_type": "execute_result",
          "data": {
            "text/html": [
              "<div>\n",
              "<style scoped>\n",
              "    .dataframe tbody tr th:only-of-type {\n",
              "        vertical-align: middle;\n",
              "    }\n",
              "\n",
              "    .dataframe tbody tr th {\n",
              "        vertical-align: top;\n",
              "    }\n",
              "\n",
              "    .dataframe thead th {\n",
              "        text-align: right;\n",
              "    }\n",
              "</style>\n",
              "<table border=\"1\" class=\"dataframe\">\n",
              "  <thead>\n",
              "    <tr style=\"text-align: right;\">\n",
              "      <th></th>\n",
              "      <th>Undergraduate Major</th>\n",
              "      <th>Starting Median Salary</th>\n",
              "      <th>Mid-Career Median Salary</th>\n",
              "    </tr>\n",
              "  </thead>\n",
              "  <tbody>\n",
              "    <tr>\n",
              "      <th>0</th>\n",
              "      <td>Petroleum Engineering</td>\n",
              "      <td>92300.0</td>\n",
              "      <td>182000.0</td>\n",
              "    </tr>\n",
              "    <tr>\n",
              "      <th>1</th>\n",
              "      <td>Electrical Engineering &amp; Computer Science (EECS)</td>\n",
              "      <td>101200.0</td>\n",
              "      <td>152300.0</td>\n",
              "    </tr>\n",
              "    <tr>\n",
              "      <th>2</th>\n",
              "      <td>Applied Economics and Management</td>\n",
              "      <td>60900.0</td>\n",
              "      <td>139600.0</td>\n",
              "    </tr>\n",
              "    <tr>\n",
              "      <th>3</th>\n",
              "      <td>Operations Research</td>\n",
              "      <td>78400.0</td>\n",
              "      <td>139600.0</td>\n",
              "    </tr>\n",
              "    <tr>\n",
              "      <th>4</th>\n",
              "      <td>Public Accounting</td>\n",
              "      <td>60000.0</td>\n",
              "      <td>138800.0</td>\n",
              "    </tr>\n",
              "  </tbody>\n",
              "</table>\n",
              "</div>"
            ],
            "text/plain": [
              "                                Undergraduate Major  ...  Mid-Career Median Salary\n",
              "0                             Petroleum Engineering  ...                  182000.0\n",
              "1  Electrical Engineering & Computer Science (EECS)  ...                  152300.0\n",
              "2                  Applied Economics and Management  ...                  139600.0\n",
              "3                               Operations Research  ...                  139600.0\n",
              "4                                 Public Accounting  ...                  138800.0\n",
              "\n",
              "[5 rows x 3 columns]"
            ]
          },
          "metadata": {
            "tags": []
          },
          "execution_count": 64
        }
      ]
    },
    {
      "cell_type": "code",
      "metadata": {
        "colab": {
          "base_uri": "https://localhost:8080/"
        },
        "id": "_0nx9Rbo_Gfj",
        "outputId": "32b42ee5-367b-4f49-fb0e-5b9918fd0ab8"
      },
      "source": [
        "print(f'Highest starting salary by major:\\n\\n{df.loc[df[\"Starting Median Salary\"].idxmax()]}')"
      ],
      "execution_count": 80,
      "outputs": [
        {
          "output_type": "stream",
          "text": [
            "Highest starting salary by major:\n",
            "\n",
            "Undergraduate Major         Electrical Engineering & Computer Science (EECS)\n",
            "Starting Median Salary                                                101200\n",
            "Mid-Career Median Salary                                              152300\n",
            "Name: 1, dtype: object\n"
          ],
          "name": "stdout"
        }
      ]
    },
    {
      "cell_type": "code",
      "metadata": {
        "colab": {
          "base_uri": "https://localhost:8080/"
        },
        "id": "b9AJUlmIC-oU",
        "outputId": "338f7600-6ae5-4cfc-b70c-8ed6caacc870"
      },
      "source": [
        "print(f'Lowest Starting salary by major:\\n\\n{df.loc[df[\"Starting Median Salary\"].idxmin]}')"
      ],
      "execution_count": 84,
      "outputs": [
        {
          "output_type": "stream",
          "text": [
            "Lowest Starting salary by major:\n",
            "\n",
            "Undergraduate Major         Aerospace Studies\n",
            "Starting Median Salary                  50300\n",
            "Mid-Career Median Salary               130300\n",
            "Name: 12, dtype: object\n"
          ],
          "name": "stdout"
        }
      ]
    },
    {
      "cell_type": "code",
      "metadata": {
        "id": "wvBvjHWTDyMZ"
      },
      "source": [
        "s"
      ],
      "execution_count": null,
      "outputs": []
    }
  ]
}